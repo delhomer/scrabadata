{
 "cells": [
  {
   "cell_type": "markdown",
   "metadata": {},
   "source": [
    "# Cartographie des clubs de Scrabble français"
   ]
  },
  {
   "cell_type": "markdown",
   "metadata": {},
   "source": [
    "## Introduction"
   ]
  },
  {
   "cell_type": "code",
   "execution_count": 4,
   "metadata": {},
   "outputs": [],
   "source": [
    "import geopandas as gpd\n",
    "import pandas as pd\n",
    "import folium"
   ]
  },
  {
   "cell_type": "code",
   "execution_count": 22,
   "metadata": {},
   "outputs": [],
   "source": [
    "def generateBaseMap(default_location, default_zoom_start=7):\n",
    "    base_map = folium.Map(location=default_location, control_scale=True, zoom_start=default_zoom_start)\n",
    "    return base_map"
   ]
  },
  {
   "cell_type": "code",
   "execution_count": 23,
   "metadata": {},
   "outputs": [],
   "source": [
    "clubs = gpd.read_file(\"../test.geojson\")"
   ]
  },
  {
   "cell_type": "code",
   "execution_count": 24,
   "metadata": {},
   "outputs": [],
   "source": [
    "mean_x = clubs.geometry.x.mean()\n",
    "mean_y = clubs.geometry.y.mean()"
   ]
  },
  {
   "cell_type": "code",
   "execution_count": 25,
   "metadata": {},
   "outputs": [
    {
     "data": {
      "text/html": [
       "<div>\n",
       "<style scoped>\n",
       "    .dataframe tbody tr th:only-of-type {\n",
       "        vertical-align: middle;\n",
       "    }\n",
       "\n",
       "    .dataframe tbody tr th {\n",
       "        vertical-align: top;\n",
       "    }\n",
       "\n",
       "    .dataframe thead th {\n",
       "        text-align: right;\n",
       "    }\n",
       "</style>\n",
       "<table border=\"1\" class=\"dataframe\">\n",
       "  <thead>\n",
       "    <tr style=\"text-align: right;\">\n",
       "      <th></th>\n",
       "      <th>id</th>\n",
       "      <th>club</th>\n",
       "      <th>address</th>\n",
       "      <th>geometry</th>\n",
       "    </tr>\n",
       "  </thead>\n",
       "  <tbody>\n",
       "    <tr>\n",
       "      <th>0</th>\n",
       "      <td>B14</td>\n",
       "      <td>Albi</td>\n",
       "      <td>7 rue des Muettes 81000 Albi</td>\n",
       "      <td>POINT (43.9262291 2.1462822)</td>\n",
       "    </tr>\n",
       "    <tr>\n",
       "      <th>1</th>\n",
       "      <td>B34</td>\n",
       "      <td>Arbas</td>\n",
       "      <td>place du Biasc 31160 Arbas</td>\n",
       "      <td>POINT (42.9960938 0.908402)</td>\n",
       "    </tr>\n",
       "    <tr>\n",
       "      <th>2</th>\n",
       "      <td>B01</td>\n",
       "      <td>Auch</td>\n",
       "      <td>63 chemin du plan Embats 32000 Auch</td>\n",
       "      <td>POINT (43.6384426 0.521527)</td>\n",
       "    </tr>\n",
       "    <tr>\n",
       "      <th>3</th>\n",
       "      <td>B40</td>\n",
       "      <td>Blagnac</td>\n",
       "      <td>5 impasse des Alouettes 31700 Blagnac</td>\n",
       "      <td>POINT (43.6468089 1.3870652)</td>\n",
       "    </tr>\n",
       "    <tr>\n",
       "      <th>4</th>\n",
       "      <td>B18</td>\n",
       "      <td>Bretenoux</td>\n",
       "      <td>22 Avenue de la Libération 46130 Bretenoux</td>\n",
       "      <td>POINT (44.915678 1.8385351)</td>\n",
       "    </tr>\n",
       "    <tr>\n",
       "      <th>5</th>\n",
       "      <td>B32</td>\n",
       "      <td>Castanet-Tolosan</td>\n",
       "      <td>rue des péniches 31320 Castanet-Tolosan.</td>\n",
       "      <td>POINT (43.5084963 1.5157553)</td>\n",
       "    </tr>\n",
       "    <tr>\n",
       "      <th>6</th>\n",
       "      <td>B10</td>\n",
       "      <td>Castres</td>\n",
       "      <td>39 rue Émile Zola 81100 Castres</td>\n",
       "      <td>POINT (43.6054961 2.2406203)</td>\n",
       "    </tr>\n",
       "    <tr>\n",
       "      <th>7</th>\n",
       "      <td>B02</td>\n",
       "      <td>Caussade</td>\n",
       "      <td>Rue des Récollets 82300 Caussade</td>\n",
       "      <td>POINT (44.1630002 1.5382332)</td>\n",
       "    </tr>\n",
       "    <tr>\n",
       "      <th>8</th>\n",
       "      <td>B04</td>\n",
       "      <td>Conques</td>\n",
       "      <td>Le Bourg 12320 Conques</td>\n",
       "      <td>POINT (44.5923335 2.42216998397436)</td>\n",
       "    </tr>\n",
       "    <tr>\n",
       "      <th>9</th>\n",
       "      <td>B25</td>\n",
       "      <td>Cransac-les-Thermes</td>\n",
       "      <td>Rue du Général Louis Artous 12110 Cransac</td>\n",
       "      <td>POINT (44.5252443 2.2814525)</td>\n",
       "    </tr>\n",
       "  </tbody>\n",
       "</table>\n",
       "</div>"
      ],
      "text/plain": [
       "    id                 club                                     address  \\\n",
       "0  B14                 Albi                7 rue des Muettes 81000 Albi   \n",
       "1  B34                Arbas                  place du Biasc 31160 Arbas   \n",
       "2  B01                 Auch         63 chemin du plan Embats 32000 Auch   \n",
       "3  B40              Blagnac       5 impasse des Alouettes 31700 Blagnac   \n",
       "4  B18            Bretenoux  22 Avenue de la Libération 46130 Bretenoux   \n",
       "5  B32     Castanet-Tolosan    rue des péniches 31320 Castanet-Tolosan.   \n",
       "6  B10              Castres             39 rue Émile Zola 81100 Castres   \n",
       "7  B02             Caussade            Rue des Récollets 82300 Caussade   \n",
       "8  B04              Conques                      Le Bourg 12320 Conques   \n",
       "9  B25  Cransac-les-Thermes   Rue du Général Louis Artous 12110 Cransac   \n",
       "\n",
       "                              geometry  \n",
       "0         POINT (43.9262291 2.1462822)  \n",
       "1          POINT (42.9960938 0.908402)  \n",
       "2          POINT (43.6384426 0.521527)  \n",
       "3         POINT (43.6468089 1.3870652)  \n",
       "4          POINT (44.915678 1.8385351)  \n",
       "5         POINT (43.5084963 1.5157553)  \n",
       "6         POINT (43.6054961 2.2406203)  \n",
       "7         POINT (44.1630002 1.5382332)  \n",
       "8  POINT (44.5923335 2.42216998397436)  \n",
       "9         POINT (44.5252443 2.2814525)  "
      ]
     },
     "execution_count": 25,
     "metadata": {},
     "output_type": "execute_result"
    }
   ],
   "source": [
    "clubs"
   ]
  },
  {
   "cell_type": "code",
   "execution_count": 27,
   "metadata": {},
   "outputs": [
    {
     "data": {
      "text/html": [
       "<div style=\"width:100%;\"><div style=\"position:relative;width:100%;height:0;padding-bottom:60%;\"><iframe src=\"data:text/html;charset=utf-8;base64,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\" style=\"position:absolute;width:100%;height:100%;left:0;top:0;border:none !important;\" allowfullscreen webkitallowfullscreen mozallowfullscreen></iframe></div></div>"
      ],
      "text/plain": [
       "<folium.folium.Map at 0x7f88e961a400>"
      ]
     },
     "execution_count": 27,
     "metadata": {},
     "output_type": "execute_result"
    }
   ],
   "source": [
    "m = generateBaseMap([mean_x, mean_y])\n",
    "for idx, club in clubs.iterrows():\n",
    "    folium.CircleMarker(\n",
    "        location=(club[\"geometry\"].x, club[\"geometry\"].y), radius=3, fill=True, popup=club[\"club\"] + \" (\" + club[\"id\"] + \")\"\n",
    "        ).add_to(m)\n",
    "m"
   ]
  },
  {
   "cell_type": "code",
   "execution_count": null,
   "metadata": {},
   "outputs": [],
   "source": []
  }
 ],
 "metadata": {
  "kernelspec": {
   "display_name": "Python 3",
   "language": "python",
   "name": "python3"
  },
  "language_info": {
   "codemirror_mode": {
    "name": "ipython",
    "version": 3
   },
   "file_extension": ".py",
   "mimetype": "text/x-python",
   "name": "python",
   "nbconvert_exporter": "python",
   "pygments_lexer": "ipython3",
   "version": "3.6.5"
  }
 },
 "nbformat": 4,
 "nbformat_minor": 2
}
