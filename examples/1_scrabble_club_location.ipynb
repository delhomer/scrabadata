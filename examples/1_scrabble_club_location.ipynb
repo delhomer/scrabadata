{
 "cells": [
  {
   "cell_type": "markdown",
   "metadata": {},
   "source": [
    "# Cartographie des clubs de Scrabble français"
   ]
  },
  {
   "cell_type": "markdown",
   "metadata": {},
   "source": [
    "## Introduction"
   ]
  },
  {
   "cell_type": "code",
   "execution_count": 1,
   "metadata": {},
   "outputs": [],
   "source": [
    "import geopandas as gpd\n",
    "import pandas as pd\n",
    "import folium"
   ]
  },
  {
   "cell_type": "code",
   "execution_count": 2,
   "metadata": {},
   "outputs": [],
   "source": [
    "def generateBaseMap(default_location, default_zoom_start=7):\n",
    "    base_map = folium.Map(location=default_location, control_scale=True, zoom_start=default_zoom_start)\n",
    "    return base_map"
   ]
  },
  {
   "cell_type": "code",
   "execution_count": 3,
   "metadata": {},
   "outputs": [],
   "source": [
    "clubs = gpd.read_file(\"../test.geojson\")"
   ]
  },
  {
   "cell_type": "code",
   "execution_count": 4,
   "metadata": {},
   "outputs": [],
   "source": [
    "mean_x = clubs.geometry.x.mean()\n",
    "mean_y = clubs.geometry.y.mean()"
   ]
  },
  {
   "cell_type": "code",
   "execution_count": 5,
   "metadata": {},
   "outputs": [
    {
     "data": {
      "text/html": [
       "<div>\n",
       "<style scoped>\n",
       "    .dataframe tbody tr th:only-of-type {\n",
       "        vertical-align: middle;\n",
       "    }\n",
       "\n",
       "    .dataframe tbody tr th {\n",
       "        vertical-align: top;\n",
       "    }\n",
       "\n",
       "    .dataframe thead th {\n",
       "        text-align: right;\n",
       "    }\n",
       "</style>\n",
       "<table border=\"1\" class=\"dataframe\">\n",
       "  <thead>\n",
       "    <tr style=\"text-align: right;\">\n",
       "      <th></th>\n",
       "      <th>id</th>\n",
       "      <th>club</th>\n",
       "      <th>address</th>\n",
       "      <th>geometry</th>\n",
       "    </tr>\n",
       "  </thead>\n",
       "  <tbody>\n",
       "    <tr>\n",
       "      <th>0</th>\n",
       "      <td>B14</td>\n",
       "      <td>Albi</td>\n",
       "      <td>7 rue des Muettes 81000 Albi</td>\n",
       "      <td>POINT (43.9262291 2.1462822)</td>\n",
       "    </tr>\n",
       "    <tr>\n",
       "      <th>1</th>\n",
       "      <td>B34</td>\n",
       "      <td>Arbas</td>\n",
       "      <td>place du Biasc 31160 Arbas</td>\n",
       "      <td>POINT (42.9960938 0.908402)</td>\n",
       "    </tr>\n",
       "    <tr>\n",
       "      <th>2</th>\n",
       "      <td>B01</td>\n",
       "      <td>Auch</td>\n",
       "      <td>63 chemin du plan Embats 32000 Auch</td>\n",
       "      <td>POINT (43.6384426 0.521527)</td>\n",
       "    </tr>\n",
       "    <tr>\n",
       "      <th>3</th>\n",
       "      <td>B40</td>\n",
       "      <td>Blagnac</td>\n",
       "      <td>5 impasse des Alouettes 31700 Blagnac</td>\n",
       "      <td>POINT (43.6468089 1.3870652)</td>\n",
       "    </tr>\n",
       "    <tr>\n",
       "      <th>4</th>\n",
       "      <td>B18</td>\n",
       "      <td>Bretenoux</td>\n",
       "      <td>22 Avenue de la Libération 46130 Bretenoux</td>\n",
       "      <td>POINT (44.915678 1.8385351)</td>\n",
       "    </tr>\n",
       "    <tr>\n",
       "      <th>5</th>\n",
       "      <td>B32</td>\n",
       "      <td>Castanet-Tolosan</td>\n",
       "      <td>rue des péniches 31320 Castanet-Tolosan.</td>\n",
       "      <td>POINT (43.5084963 1.5157553)</td>\n",
       "    </tr>\n",
       "    <tr>\n",
       "      <th>6</th>\n",
       "      <td>B10</td>\n",
       "      <td>Castres</td>\n",
       "      <td>39 rue Émile Zola 81100 Castres</td>\n",
       "      <td>POINT (43.6054961 2.2406203)</td>\n",
       "    </tr>\n",
       "    <tr>\n",
       "      <th>7</th>\n",
       "      <td>B02</td>\n",
       "      <td>Caussade</td>\n",
       "      <td>Rue des Récollets 82300 Caussade</td>\n",
       "      <td>POINT (44.1630002 1.5382332)</td>\n",
       "    </tr>\n",
       "    <tr>\n",
       "      <th>8</th>\n",
       "      <td>B04</td>\n",
       "      <td>Conques</td>\n",
       "      <td>Le Bourg 12320 Conques</td>\n",
       "      <td>POINT (44.5923335 2.42216998397436)</td>\n",
       "    </tr>\n",
       "    <tr>\n",
       "      <th>9</th>\n",
       "      <td>B25</td>\n",
       "      <td>Cransac-les-Thermes</td>\n",
       "      <td>Rue du Général Louis Artous 12110 Cransac</td>\n",
       "      <td>POINT (44.5252443 2.2814525)</td>\n",
       "    </tr>\n",
       "  </tbody>\n",
       "</table>\n",
       "</div>"
      ],
      "text/plain": [
       "    id                 club                                     address  \\\n",
       "0  B14                 Albi                7 rue des Muettes 81000 Albi   \n",
       "1  B34                Arbas                  place du Biasc 31160 Arbas   \n",
       "2  B01                 Auch         63 chemin du plan Embats 32000 Auch   \n",
       "3  B40              Blagnac       5 impasse des Alouettes 31700 Blagnac   \n",
       "4  B18            Bretenoux  22 Avenue de la Libération 46130 Bretenoux   \n",
       "5  B32     Castanet-Tolosan    rue des péniches 31320 Castanet-Tolosan.   \n",
       "6  B10              Castres             39 rue Émile Zola 81100 Castres   \n",
       "7  B02             Caussade            Rue des Récollets 82300 Caussade   \n",
       "8  B04              Conques                      Le Bourg 12320 Conques   \n",
       "9  B25  Cransac-les-Thermes   Rue du Général Louis Artous 12110 Cransac   \n",
       "\n",
       "                              geometry  \n",
       "0         POINT (43.9262291 2.1462822)  \n",
       "1          POINT (42.9960938 0.908402)  \n",
       "2          POINT (43.6384426 0.521527)  \n",
       "3         POINT (43.6468089 1.3870652)  \n",
       "4          POINT (44.915678 1.8385351)  \n",
       "5         POINT (43.5084963 1.5157553)  \n",
       "6         POINT (43.6054961 2.2406203)  \n",
       "7         POINT (44.1630002 1.5382332)  \n",
       "8  POINT (44.5923335 2.42216998397436)  \n",
       "9         POINT (44.5252443 2.2814525)  "
      ]
     },
     "execution_count": 5,
     "metadata": {},
     "output_type": "execute_result"
    }
   ],
   "source": [
    "clubs"
   ]
  },
  {
   "cell_type": "code",
   "execution_count": 6,
   "metadata": {},
   "outputs": [
    {
     "data": {
      "text/html": [
       "<div style=\"width:100%;\"><div style=\"position:relative;width:100%;height:0;padding-bottom:60%;\"><iframe src=\"data:text/html;charset=utf-8;base64,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\" style=\"position:absolute;width:100%;height:100%;left:0;top:0;border:none !important;\" allowfullscreen webkitallowfullscreen mozallowfullscreen></iframe></div></div>"
      ],
      "text/plain": [
       "<folium.folium.Map at 0x7f6c8edd0da0>"
      ]
     },
     "execution_count": 6,
     "metadata": {},
     "output_type": "execute_result"
    }
   ],
   "source": [
    "m = generateBaseMap([mean_x, mean_y])\n",
    "for idx, club in clubs.iterrows():\n",
    "    folium.CircleMarker(\n",
    "        location=(club[\"geometry\"].x, club[\"geometry\"].y), radius=3, fill=True, popup=club[\"club\"] + \" (\" + club[\"id\"] + \")\"\n",
    "        ).add_to(m)\n",
    "m"
   ]
  },
  {
   "cell_type": "code",
   "execution_count": null,
   "metadata": {},
   "outputs": [],
   "source": []
  }
 ],
 "metadata": {
  "kernelspec": {
   "display_name": "Python 3",
   "language": "python",
   "name": "python3"
  },
  "language_info": {
   "codemirror_mode": {
    "name": "ipython",
    "version": 3
   },
   "file_extension": ".py",
   "mimetype": "text/x-python",
   "name": "python",
   "nbconvert_exporter": "python",
   "pygments_lexer": "ipython3",
   "version": "3.6.8"
  }
 },
 "nbformat": 4,
 "nbformat_minor": 2
}
